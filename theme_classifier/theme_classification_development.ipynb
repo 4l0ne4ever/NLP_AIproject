{
 "cells": [
  {
   "cell_type": "code",
   "execution_count": 6,
   "metadata": {},
   "outputs": [
    {
     "name": "stderr",
     "output_type": "stream",
     "text": [
      "[nltk_data] Downloading package punkt to\n",
      "[nltk_data]     /Users/duongcongthuyet/nltk_data...\n",
      "[nltk_data]   Package punkt is already up-to-date!\n"
     ]
    },
    {
     "data": {
      "text/plain": [
       "True"
      ]
     },
     "execution_count": 6,
     "metadata": {},
     "output_type": "execute_result"
    }
   ],
   "source": [
    "from transformers import pipeline\n",
    "from nltk import sent_tokenize\n",
    "import nltk\n",
    "import torch\n",
    "import re\n",
    "import os\n",
    "from glob import glob\n",
    "import pandas as pd\n",
    "import numpy as np\n",
    "nltk.download('punkt')\n"
   ]
  },
  {
   "cell_type": "markdown",
   "metadata": {},
   "source": [
    "#Load Model"
   ]
  },
  {
   "cell_type": "markdown",
   "metadata": {},
   "source": [
    "8GB RAM : valhalla/distilbart-mnli-12-3\n",
    "Google Colab: facebook/bart-large-mnli"
   ]
  },
  {
   "cell_type": "code",
   "execution_count": 7,
   "metadata": {},
   "outputs": [],
   "source": [
    "model_name = \"valhalla/distilbart-mnli-12-3\"\n",
    "device = 0 if torch.cuda.is_available() else 'cpu'"
   ]
  },
  {
   "cell_type": "code",
   "execution_count": 8,
   "metadata": {},
   "outputs": [],
   "source": [
    "def load_model(device):\n",
    "    theme_classifier = pipeline(\n",
    "        \"zero-shot-classification\",\n",
    "        model=model_name,\n",
    "        device=device\n",
    "    )\n",
    "    return theme_classifier"
   ]
  },
  {
   "cell_type": "code",
   "execution_count": 9,
   "metadata": {},
   "outputs": [
    {
     "name": "stderr",
     "output_type": "stream",
     "text": [
      "Device set to use cpu\n"
     ]
    }
   ],
   "source": [
    "theme_classifier = load_model(device)"
   ]
  },
  {
   "cell_type": "code",
   "execution_count": 10,
   "metadata": {},
   "outputs": [],
   "source": [
    "theme_lists = [\"Hope\",\"Despair\",\"Trust\",\"Isolation\",\"Rebellion\",\"Danger\",\"Love\",\"Guilt\"]"
   ]
  },
  {
   "cell_type": "code",
   "execution_count": 11,
   "metadata": {},
   "outputs": [
    {
     "data": {
      "text/plain": [
       "{'sequence': 'A group of kids encounter strange events in Hawkins while searching for their lost friend.',\n",
       " 'labels': ['Danger',\n",
       "  'Rebellion',\n",
       "  'Despair',\n",
       "  'Trust',\n",
       "  'Guilt',\n",
       "  'Hope',\n",
       "  'Isolation',\n",
       "  'Love'],\n",
       " 'scores': [0.17511320114135742,\n",
       "  0.008674344047904015,\n",
       "  0.006497863680124283,\n",
       "  0.004877186845988035,\n",
       "  0.003746243892237544,\n",
       "  0.0030237073078751564,\n",
       "  0.00180991948582232,\n",
       "  0.0005362313822843134]}"
      ]
     },
     "execution_count": 11,
     "metadata": {},
     "output_type": "execute_result"
    }
   ],
   "source": [
    "\n",
    "theme_classifier(\n",
    "    \"A group of kids encounter strange events in Hawkins while searching for their lost friend.\",\n",
    "    theme_lists,\n",
    "    multi_label = True\n",
    ")"
   ]
  },
  {
   "cell_type": "markdown",
   "metadata": {},
   "source": [
    "#Load Dataset"
   ]
  },
  {
   "cell_type": "code",
   "execution_count": 12,
   "metadata": {},
   "outputs": [],
   "source": [
    "files = glob('../data/Subtitles/*.srt')"
   ]
  },
  {
   "cell_type": "code",
   "execution_count": 13,
   "metadata": {},
   "outputs": [
    {
     "data": {
      "text/plain": [
       "['../data/Subtitles/Stranger.Things.S04E03.NF.WEB-DL.HI.srt',\n",
       " '../data/Subtitles/Stranger.Things.S01E08.WEBRip.x264-TURBO.srt',\n",
       " '../data/Subtitles/Stranger.Things.S04E08.NF.WEB-DL.HI.srt',\n",
       " '../data/Subtitles/Stranger.Things.S03E06.WEBRip.x264-ION10-HI.srt',\n",
       " '../data/Subtitles/Stranger.Things.S03E02.WEBRip.x264-ION10-HI.srt']"
      ]
     },
     "execution_count": 13,
     "metadata": {},
     "output_type": "execute_result"
    }
   ],
   "source": [
    "files[:5]"
   ]
  },
  {
   "cell_type": "code",
   "execution_count": 14,
   "metadata": {},
   "outputs": [
    {
     "data": {
      "text/plain": [
       "['[faint rumbling] ',\n",
       " '[dishware rattling] ',\n",
       " '[ominous rumbling building] ',\n",
       " '[pots and pans clanging] ',\n",
       " '- [helicopter blades whirring] ']"
      ]
     },
     "execution_count": 14,
     "metadata": {},
     "output_type": "execute_result"
    }
   ],
   "source": [
    "with open(files[0], 'r') as f:\n",
    "    text = f.readlines()\n",
    "    \n",
    "lines = [None]\n",
    "current_captions = []\n",
    "i = 0\n",
    "while i < len(text):\n",
    "    line = text[i].strip()\n",
    "    if not line:\n",
    "        i += 1\n",
    "        continue\n",
    "        \n",
    "    if line.isdigit():\n",
    "        i += 1\n",
    "        if i < len(text) and ' --> ' in text[i]:\n",
    "            i += 1\n",
    "            caption_text = []\n",
    "            while i < len(text) and text[i].strip():\n",
    "                caption_text.append(text[i].strip())\n",
    "                i += 1\n",
    "            \n",
    "            if caption_text:\n",
    "                current_captions.append(caption_text[0] + \" \")\n",
    "                lines.append(list(current_captions))\n",
    "    else:\n",
    "        i += 1\n",
    "\n",
    "lines[5]"
   ]
  },
  {
   "cell_type": "code",
   "execution_count": 15,
   "metadata": {},
   "outputs": [
    {
     "data": {
      "text/plain": [
       "'[faint rumbling]  [dishware rattling]  [ominous rumbling building]  [pots and pans clanging]  - [helicopter blades whirring]  [dramatic music playing]  [woman grunts]  Sam.  [blades slowing]  [dramatic musical flourish] '"
      ]
     },
     "execution_count": 15,
     "metadata": {},
     "output_type": "execute_result"
    }
   ],
   "source": [
    "\" \".join(lines[10])"
   ]
  },
  {
   "cell_type": "code",
   "execution_count": 16,
   "metadata": {},
   "outputs": [],
   "source": [
    "season = int(re.search(r'S(\\d+)E(\\d+)',files[0]).group(1))\n",
    "episode = int(re.search(r'S(\\d+)E(\\d+)',files[0]).group(2))"
   ]
  },
  {
   "cell_type": "code",
   "execution_count": 17,
   "metadata": {},
   "outputs": [],
   "source": [
    "def load_subtitles_dataset(dataset_path):\n",
    "    subtitles_path = glob(os.path.join(dataset_path, '*.srt'))\n",
    "    scripts = []\n",
    "    episode_num = []\n",
    "    episode_season = []\n",
    "\n",
    "    for path in subtitles_path:\n",
    "        # Đọc file\n",
    "        with open(path, 'r', encoding='utf-8') as f:\n",
    "            text = f.readlines()\n",
    "\n",
    "        lines = []  # Không khởi tạo với None\n",
    "        current_captions = []\n",
    "        i = 0\n",
    "        while i < len(text):\n",
    "            line = text[i].strip()\n",
    "            if not line:\n",
    "                i += 1\n",
    "                continue\n",
    "\n",
    "            if line.isdigit():\n",
    "                i += 1\n",
    "                if i < len(text) and ' --> ' in text[i]:  # Dòng thời gian\n",
    "                    i += 1\n",
    "                    caption_text = []\n",
    "                    while i < len(text) and text[i].strip():\n",
    "                        caption_text.append(text[i].strip())\n",
    "                        i += 1\n",
    "                    \n",
    "                    if caption_text:\n",
    "                        lines.extend(caption_text)  # Thêm trực tiếp vào `lines`\n",
    "            else:\n",
    "                i += 1\n",
    "\n",
    "        script = \" \".join(lines)  # Ghép nội dung lại\n",
    "\n",
    "        match = re.search(r'S(\\d+)E(\\d+)', path)\n",
    "        if match:\n",
    "            season = int(match.group(1))\n",
    "            episode = int(match.group(2))\n",
    "            scripts.append(script)\n",
    "            episode_num.append(episode)\n",
    "            episode_season.append(season)\n",
    "\n",
    "    df = pd.DataFrame.from_dict({\"season\": episode_season, \"episode\": episode_num, \"script\": scripts})\n",
    "    return df\n"
   ]
  },
  {
   "cell_type": "code",
   "execution_count": 18,
   "metadata": {},
   "outputs": [],
   "source": [
    "dataset_path = '../data/Subtitles'\n",
    "df = load_subtitles_dataset(dataset_path)\n",
    "df = df.sort_values(by=['season', 'episode'], ascending=[True, True])\n"
   ]
  },
  {
   "cell_type": "code",
   "execution_count": 19,
   "metadata": {},
   "outputs": [
    {
     "data": {
      "text/html": [
       "<div>\n",
       "<style scoped>\n",
       "    .dataframe tbody tr th:only-of-type {\n",
       "        vertical-align: middle;\n",
       "    }\n",
       "\n",
       "    .dataframe tbody tr th {\n",
       "        vertical-align: top;\n",
       "    }\n",
       "\n",
       "    .dataframe thead th {\n",
       "        text-align: right;\n",
       "    }\n",
       "</style>\n",
       "<table border=\"1\" class=\"dataframe\">\n",
       "  <thead>\n",
       "    <tr style=\"text-align: right;\">\n",
       "      <th></th>\n",
       "      <th>season</th>\n",
       "      <th>episode</th>\n",
       "      <th>script</th>\n",
       "    </tr>\n",
       "  </thead>\n",
       "  <tbody>\n",
       "    <tr>\n",
       "      <th>19</th>\n",
       "      <td>1</td>\n",
       "      <td>1</td>\n",
       "      <td>(ALARM BLARING) (PANTING) (ELEVATOR DESCENDING...</td>\n",
       "    </tr>\n",
       "    <tr>\n",
       "      <th>5</th>\n",
       "      <td>1</td>\n",
       "      <td>2</td>\n",
       "      <td>(THUNDER RUMBLING) (BREATHING HEAVILY) (MIKE) ...</td>\n",
       "    </tr>\n",
       "    <tr>\n",
       "      <th>26</th>\n",
       "      <td>1</td>\n",
       "      <td>3</td>\n",
       "      <td>Hello? Nancy? Nancy! (SHOUTS) Hello? - (GROWLI...</td>\n",
       "    </tr>\n",
       "    <tr>\n",
       "      <th>13</th>\n",
       "      <td>1</td>\n",
       "      <td>4</td>\n",
       "      <td>POWELL: This the wall she was talking about, C...</td>\n",
       "    </tr>\n",
       "    <tr>\n",
       "      <th>27</th>\n",
       "      <td>1</td>\n",
       "      <td>5</td>\n",
       "      <td>[woman] Thanks. [indistinct chatter] [breathin...</td>\n",
       "    </tr>\n",
       "  </tbody>\n",
       "</table>\n",
       "</div>"
      ],
      "text/plain": [
       "    season  episode                                             script\n",
       "19       1        1  (ALARM BLARING) (PANTING) (ELEVATOR DESCENDING...\n",
       "5        1        2  (THUNDER RUMBLING) (BREATHING HEAVILY) (MIKE) ...\n",
       "26       1        3  Hello? Nancy? Nancy! (SHOUTS) Hello? - (GROWLI...\n",
       "13       1        4  POWELL: This the wall she was talking about, C...\n",
       "27       1        5  [woman] Thanks. [indistinct chatter] [breathin..."
      ]
     },
     "execution_count": 19,
     "metadata": {},
     "output_type": "execute_result"
    }
   ],
   "source": [
    "df.head(5)"
   ]
  },
  {
   "cell_type": "markdown",
   "metadata": {},
   "source": [
    "Run Model"
   ]
  },
  {
   "cell_type": "code",
   "execution_count": 20,
   "metadata": {},
   "outputs": [],
   "source": [
    "script = df.iloc[0]['script']"
   ]
  },
  {
   "cell_type": "code",
   "execution_count": 21,
   "metadata": {},
   "outputs": [
    {
     "name": "stderr",
     "output_type": "stream",
     "text": [
      "[nltk_data] Downloading package punkt_tab to /Users/duongcongthuyet/Do\n",
      "[nltk_data]     wnloads/workspace/AI/.venv/nltk_data...\n",
      "[nltk_data]   Package punkt_tab is already up-to-date!\n"
     ]
    }
   ],
   "source": [
    "# Fix the set_tokenizer issue\n",
    "import nltk\n",
    "download_dir = '/Users/duongcongthuyet/Downloads/workspace/AI/.venv/nltk_data'\n",
    "nltk.download('punkt_tab', download_dir=download_dir)\n",
    "nltk.data.path.append(download_dir)  # Add this path to NLTK’s search list"
   ]
  },
  {
   "cell_type": "code",
   "execution_count": 22,
   "metadata": {},
   "outputs": [
    {
     "data": {
      "text/plain": [
       "['(ALARM BLARING) (PANTING) (ELEVATOR DESCENDING) (ELEVATOR DINGS) (BREATHING HEAVILY) (LOW GROWLING) (SCREAMING) MIKE: Something is coming.',\n",
       " 'Something hungry for blood.',\n",
       " 'A shadow grows on the wall behind you, swallowing you in darkness.',\n",
       " '- It is almost here.',\n",
       " '- What is it?']"
      ]
     },
     "execution_count": 22,
     "metadata": {},
     "output_type": "execute_result"
    }
   ],
   "source": [
    "script_sentences = sent_tokenize(script)\n",
    "script_sentences[:5]"
   ]
  },
  {
   "cell_type": "code",
   "execution_count": 23,
   "metadata": {},
   "outputs": [
    {
     "data": {
      "text/plain": [
       "[\"(ALARM BLARING) (PANTING) (ELEVATOR DESCENDING) (ELEVATOR DINGS) (BREATHING HEAVILY) (LOW GROWLING) (SCREAMING) MIKE: Something is coming. Something hungry for blood. A shadow grows on the wall behind you, swallowing you in darkness. - It is almost here. - What is it? What if it's the Demogorgon? Oh, Jesus, we're so screwed if it's the Demogorgon. It's not the Demogorgon. An army of troglodytes charge into the chamber! - Troglodytes? - Told ya. (CHUCKLING) - (SNORTS) - (ALL CHUCKLING) (SOFTLY) Wait a minute. Did you hear that? That... that sound? Boom... boom... - (YELLS) Boom! - (SLAMS TABLE) That didn't come from the troglodytes. No, that... That came from something else. - The Demogorgon! - (ALL GROANING) - We're in deep shit. - Will, your action!\",\n",
       " \"- I don't know! - Fireball him! I'd have to roll a 13 or higher! Too risky. Cast a protection spell. - Don't be a pussy. Fireball him! - Cast Protection. The Demogorgon is tired of your silly human bickering! It stomps towards you. - Boom! - Fireball him! - Another stomp, boom! - Cast Protection. - He roars in anger! - (ALL CLAMORING) - Fireball! - (DIE CLATTERING) - Oh, shit! - LUCAS: Where'd it go? - LUCAS: Where is it? - WILL: I don't know!\"]"
      ]
     },
     "execution_count": 23,
     "metadata": {},
     "output_type": "execute_result"
    }
   ],
   "source": [
    "#Batch sentence\n",
    "sentence_batch_size = 20\n",
    "script_batches = []\n",
    "for index in range(0, len(script_sentences), sentence_batch_size):\n",
    "    sent = \" \".join(script_sentences[index: index + sentence_batch_size])\n",
    "    script_batches.append(sent)\n",
    "\n",
    "script_batches[:2]"
   ]
  },
  {
   "cell_type": "code",
   "execution_count": 24,
   "metadata": {},
   "outputs": [
    {
     "data": {
      "text/plain": [
       "[{'sequence': \"(ALARM BLARING) (PANTING) (ELEVATOR DESCENDING) (ELEVATOR DINGS) (BREATHING HEAVILY) (LOW GROWLING) (SCREAMING) MIKE: Something is coming. Something hungry for blood. A shadow grows on the wall behind you, swallowing you in darkness. - It is almost here. - What is it? What if it's the Demogorgon? Oh, Jesus, we're so screwed if it's the Demogorgon. It's not the Demogorgon. An army of troglodytes charge into the chamber! - Troglodytes? - Told ya. (CHUCKLING) - (SNORTS) - (ALL CHUCKLING) (SOFTLY) Wait a minute. Did you hear that? That... that sound? Boom... boom... - (YELLS) Boom! - (SLAMS TABLE) That didn't come from the troglodytes. No, that... That came from something else. - The Demogorgon! - (ALL GROANING) - We're in deep shit. - Will, your action!\",\n",
       "  'labels': ['Isolation',\n",
       "   'Danger',\n",
       "   'Trust',\n",
       "   'Rebellion',\n",
       "   'Guilt',\n",
       "   'Despair',\n",
       "   'Hope',\n",
       "   'Love'],\n",
       "  'scores': [0.3522258400917053,\n",
       "   0.3437404930591583,\n",
       "   0.32612529397010803,\n",
       "   0.3163623809814453,\n",
       "   0.3103531301021576,\n",
       "   0.2765202522277832,\n",
       "   0.21075433492660522,\n",
       "   0.18759512901306152]},\n",
       " {'sequence': \"- I don't know! - Fireball him! I'd have to roll a 13 or higher! Too risky. Cast a protection spell. - Don't be a pussy. Fireball him! - Cast Protection. The Demogorgon is tired of your silly human bickering! It stomps towards you. - Boom! - Fireball him! - Another stomp, boom! - Cast Protection. - He roars in anger! - (ALL CLAMORING) - Fireball! - (DIE CLATTERING) - Oh, shit! - LUCAS: Where'd it go? - LUCAS: Where is it? - WILL: I don't know!\",\n",
       "  'labels': ['Danger',\n",
       "   'Rebellion',\n",
       "   'Guilt',\n",
       "   'Despair',\n",
       "   'Trust',\n",
       "   'Isolation',\n",
       "   'Hope',\n",
       "   'Love'],\n",
       "  'scores': [0.9867904186248779,\n",
       "   0.9299549460411072,\n",
       "   0.8864167332649231,\n",
       "   0.8772963285446167,\n",
       "   0.8535847663879395,\n",
       "   0.8527380228042603,\n",
       "   0.6891962885856628,\n",
       "   0.25791847705841064]}]"
      ]
     },
     "execution_count": 24,
     "metadata": {},
     "output_type": "execute_result"
    }
   ],
   "source": [
    "theme_output = theme_classifier(\n",
    "    script_batches[:2],\n",
    "    theme_lists,\n",
    "    multi_label = True\n",
    ")\n",
    "theme_output"
   ]
  },
  {
   "cell_type": "code",
   "execution_count": 25,
   "metadata": {},
   "outputs": [],
   "source": [
    "# Wrangle Output\n",
    "themes ={}\n",
    "for output in theme_output:\n",
    "    for label,score in zip(output['labels'], output['scores']):\n",
    "        if label not in themes:\n",
    "            themes[label] = []\n",
    "        themes[label].append(score)\n"
   ]
  },
  {
   "cell_type": "code",
   "execution_count": 26,
   "metadata": {},
   "outputs": [],
   "source": [
    "themes = {key : np.mean(np.array(value)) for key,value in themes.items()}\n",
    "    "
   ]
  },
  {
   "cell_type": "code",
   "execution_count": 27,
   "metadata": {},
   "outputs": [],
   "source": [
    "def get_themes_inference(script):\n",
    "    script_sentences = sent_tokenize(script)\n",
    "    #Batch sentence\n",
    "    sentence_batch_size = 20\n",
    "    script_batches = []\n",
    "    for index in range(0, len(script_sentences), sentence_batch_size):\n",
    "        sent = \" \".join(script_sentences[index: index + sentence_batch_size])\n",
    "        script_batches.append(sent)\n",
    "    #Run model\n",
    "    theme_output = theme_classifier(\n",
    "        script_batches,\n",
    "        theme_lists,\n",
    "        multi_label = True\n",
    "    )\n",
    "    # Wrangle Output\n",
    "    themes ={}\n",
    "    for output in theme_output:\n",
    "        for label,score in zip(output['labels'], output['scores']):\n",
    "            if label not in themes:\n",
    "                themes[label] = []\n",
    "            themes[label].append(score)\n",
    "    themes = {key : np.mean(np.array(value)) for key,value in themes.items()}\n",
    "    return themes"
   ]
  },
  {
   "cell_type": "code",
   "execution_count": 28,
   "metadata": {},
   "outputs": [
    {
     "data": {
      "text/html": [
       "<div>\n",
       "<style scoped>\n",
       "    .dataframe tbody tr th:only-of-type {\n",
       "        vertical-align: middle;\n",
       "    }\n",
       "\n",
       "    .dataframe tbody tr th {\n",
       "        vertical-align: top;\n",
       "    }\n",
       "\n",
       "    .dataframe thead th {\n",
       "        text-align: right;\n",
       "    }\n",
       "</style>\n",
       "<table border=\"1\" class=\"dataframe\">\n",
       "  <thead>\n",
       "    <tr style=\"text-align: right;\">\n",
       "      <th></th>\n",
       "      <th>season</th>\n",
       "      <th>episode</th>\n",
       "      <th>script</th>\n",
       "    </tr>\n",
       "  </thead>\n",
       "  <tbody>\n",
       "    <tr>\n",
       "      <th>19</th>\n",
       "      <td>1</td>\n",
       "      <td>1</td>\n",
       "      <td>(ALARM BLARING) (PANTING) (ELEVATOR DESCENDING...</td>\n",
       "    </tr>\n",
       "    <tr>\n",
       "      <th>5</th>\n",
       "      <td>1</td>\n",
       "      <td>2</td>\n",
       "      <td>(THUNDER RUMBLING) (BREATHING HEAVILY) (MIKE) ...</td>\n",
       "    </tr>\n",
       "  </tbody>\n",
       "</table>\n",
       "</div>"
      ],
      "text/plain": [
       "    season  episode                                             script\n",
       "19       1        1  (ALARM BLARING) (PANTING) (ELEVATOR DESCENDING...\n",
       "5        1        2  (THUNDER RUMBLING) (BREATHING HEAVILY) (MIKE) ..."
      ]
     },
     "execution_count": 28,
     "metadata": {},
     "output_type": "execute_result"
    }
   ],
   "source": [
    "df = df.head(2)\n",
    "df"
   ]
  },
  {
   "cell_type": "code",
   "execution_count": 29,
   "metadata": {},
   "outputs": [
    {
     "data": {
      "text/plain": [
       "19    {'Isolation': 0.5155695422020342, 'Danger': 0....\n",
       "5     {'Guilt': 0.4144470893539662, 'Danger': 0.3956...\n",
       "Name: script, dtype: object"
      ]
     },
     "execution_count": 29,
     "metadata": {},
     "output_type": "execute_result"
    }
   ],
   "source": [
    "output_theme = df['script'].apply(get_themes_inference)\n",
    "output_theme"
   ]
  },
  {
   "cell_type": "code",
   "execution_count": 30,
   "metadata": {},
   "outputs": [
    {
     "data": {
      "text/html": [
       "<div>\n",
       "<style scoped>\n",
       "    .dataframe tbody tr th:only-of-type {\n",
       "        vertical-align: middle;\n",
       "    }\n",
       "\n",
       "    .dataframe tbody tr th {\n",
       "        vertical-align: top;\n",
       "    }\n",
       "\n",
       "    .dataframe thead th {\n",
       "        text-align: right;\n",
       "    }\n",
       "</style>\n",
       "<table border=\"1\" class=\"dataframe\">\n",
       "  <thead>\n",
       "    <tr style=\"text-align: right;\">\n",
       "      <th></th>\n",
       "      <th>Isolation</th>\n",
       "      <th>Danger</th>\n",
       "      <th>Trust</th>\n",
       "      <th>Rebellion</th>\n",
       "      <th>Guilt</th>\n",
       "      <th>Despair</th>\n",
       "      <th>Hope</th>\n",
       "      <th>Love</th>\n",
       "    </tr>\n",
       "  </thead>\n",
       "  <tbody>\n",
       "    <tr>\n",
       "      <th>0</th>\n",
       "      <td>0.515570</td>\n",
       "      <td>0.519857</td>\n",
       "      <td>0.510538</td>\n",
       "      <td>0.488584</td>\n",
       "      <td>0.518608</td>\n",
       "      <td>0.421234</td>\n",
       "      <td>0.376865</td>\n",
       "      <td>0.340072</td>\n",
       "    </tr>\n",
       "    <tr>\n",
       "      <th>1</th>\n",
       "      <td>0.392064</td>\n",
       "      <td>0.395637</td>\n",
       "      <td>0.414887</td>\n",
       "      <td>0.376036</td>\n",
       "      <td>0.414447</td>\n",
       "      <td>0.309934</td>\n",
       "      <td>0.306824</td>\n",
       "      <td>0.286134</td>\n",
       "    </tr>\n",
       "  </tbody>\n",
       "</table>\n",
       "</div>"
      ],
      "text/plain": [
       "   Isolation    Danger     Trust  Rebellion     Guilt   Despair      Hope  \\\n",
       "0   0.515570  0.519857  0.510538   0.488584  0.518608  0.421234  0.376865   \n",
       "1   0.392064  0.395637  0.414887   0.376036  0.414447  0.309934  0.306824   \n",
       "\n",
       "       Love  \n",
       "0  0.340072  \n",
       "1  0.286134  "
      ]
     },
     "execution_count": 30,
     "metadata": {},
     "output_type": "execute_result"
    }
   ],
   "source": [
    "theme_df = pd.DataFrame(output_theme.tolist())\n",
    "theme_df"
   ]
  },
  {
   "cell_type": "code",
   "execution_count": 31,
   "metadata": {},
   "outputs": [
    {
     "data": {
      "text/html": [
       "<div>\n",
       "<style scoped>\n",
       "    .dataframe tbody tr th:only-of-type {\n",
       "        vertical-align: middle;\n",
       "    }\n",
       "\n",
       "    .dataframe tbody tr th {\n",
       "        vertical-align: top;\n",
       "    }\n",
       "\n",
       "    .dataframe thead th {\n",
       "        text-align: right;\n",
       "    }\n",
       "</style>\n",
       "<table border=\"1\" class=\"dataframe\">\n",
       "  <thead>\n",
       "    <tr style=\"text-align: right;\">\n",
       "      <th></th>\n",
       "      <th>season</th>\n",
       "      <th>episode</th>\n",
       "      <th>script</th>\n",
       "      <th>Isolation</th>\n",
       "      <th>Danger</th>\n",
       "      <th>Trust</th>\n",
       "      <th>Rebellion</th>\n",
       "      <th>Guilt</th>\n",
       "      <th>Despair</th>\n",
       "      <th>Hope</th>\n",
       "      <th>Love</th>\n",
       "    </tr>\n",
       "  </thead>\n",
       "  <tbody>\n",
       "    <tr>\n",
       "      <th>19</th>\n",
       "      <td>1</td>\n",
       "      <td>1</td>\n",
       "      <td>(ALARM BLARING) (PANTING) (ELEVATOR DESCENDING...</td>\n",
       "      <td>0.515570</td>\n",
       "      <td>0.519857</td>\n",
       "      <td>0.510538</td>\n",
       "      <td>0.488584</td>\n",
       "      <td>0.518608</td>\n",
       "      <td>0.421234</td>\n",
       "      <td>0.376865</td>\n",
       "      <td>0.340072</td>\n",
       "    </tr>\n",
       "    <tr>\n",
       "      <th>5</th>\n",
       "      <td>1</td>\n",
       "      <td>2</td>\n",
       "      <td>(THUNDER RUMBLING) (BREATHING HEAVILY) (MIKE) ...</td>\n",
       "      <td>0.392064</td>\n",
       "      <td>0.395637</td>\n",
       "      <td>0.414887</td>\n",
       "      <td>0.376036</td>\n",
       "      <td>0.414447</td>\n",
       "      <td>0.309934</td>\n",
       "      <td>0.306824</td>\n",
       "      <td>0.286134</td>\n",
       "    </tr>\n",
       "  </tbody>\n",
       "</table>\n",
       "</div>"
      ],
      "text/plain": [
       "    season  episode                                             script  \\\n",
       "19       1        1  (ALARM BLARING) (PANTING) (ELEVATOR DESCENDING...   \n",
       "5        1        2  (THUNDER RUMBLING) (BREATHING HEAVILY) (MIKE) ...   \n",
       "\n",
       "    Isolation    Danger     Trust  Rebellion     Guilt   Despair      Hope  \\\n",
       "19   0.515570  0.519857  0.510538   0.488584  0.518608  0.421234  0.376865   \n",
       "5    0.392064  0.395637  0.414887   0.376036  0.414447  0.309934  0.306824   \n",
       "\n",
       "        Love  \n",
       "19  0.340072  \n",
       "5   0.286134  "
      ]
     },
     "execution_count": 31,
     "metadata": {},
     "output_type": "execute_result"
    }
   ],
   "source": [
    "theme_df.index = df.index\n",
    "df.loc[:, theme_df.columns] = theme_df\n",
    "df"
   ]
  },
  {
   "cell_type": "markdown",
   "metadata": {},
   "source": [
    "#Visualize output"
   ]
  },
  {
   "cell_type": "code",
   "execution_count": 32,
   "metadata": {},
   "outputs": [
    {
     "data": {
      "text/html": [
       "<div>\n",
       "<style scoped>\n",
       "    .dataframe tbody tr th:only-of-type {\n",
       "        vertical-align: middle;\n",
       "    }\n",
       "\n",
       "    .dataframe tbody tr th {\n",
       "        vertical-align: top;\n",
       "    }\n",
       "\n",
       "    .dataframe thead th {\n",
       "        text-align: right;\n",
       "    }\n",
       "</style>\n",
       "<table border=\"1\" class=\"dataframe\">\n",
       "  <thead>\n",
       "    <tr style=\"text-align: right;\">\n",
       "      <th></th>\n",
       "      <th>theme</th>\n",
       "      <th>score</th>\n",
       "    </tr>\n",
       "  </thead>\n",
       "  <tbody>\n",
       "    <tr>\n",
       "      <th>0</th>\n",
       "      <td>Isolation</td>\n",
       "      <td>0.907634</td>\n",
       "    </tr>\n",
       "    <tr>\n",
       "      <th>1</th>\n",
       "      <td>Danger</td>\n",
       "      <td>0.915494</td>\n",
       "    </tr>\n",
       "    <tr>\n",
       "      <th>2</th>\n",
       "      <td>Trust</td>\n",
       "      <td>0.925425</td>\n",
       "    </tr>\n",
       "    <tr>\n",
       "      <th>3</th>\n",
       "      <td>Rebellion</td>\n",
       "      <td>0.864620</td>\n",
       "    </tr>\n",
       "    <tr>\n",
       "      <th>4</th>\n",
       "      <td>Guilt</td>\n",
       "      <td>0.933055</td>\n",
       "    </tr>\n",
       "    <tr>\n",
       "      <th>5</th>\n",
       "      <td>Despair</td>\n",
       "      <td>0.731168</td>\n",
       "    </tr>\n",
       "    <tr>\n",
       "      <th>6</th>\n",
       "      <td>Hope</td>\n",
       "      <td>0.683690</td>\n",
       "    </tr>\n",
       "    <tr>\n",
       "      <th>7</th>\n",
       "      <td>Love</td>\n",
       "      <td>0.626206</td>\n",
       "    </tr>\n",
       "  </tbody>\n",
       "</table>\n",
       "</div>"
      ],
      "text/plain": [
       "       theme     score\n",
       "0  Isolation  0.907634\n",
       "1     Danger  0.915494\n",
       "2      Trust  0.925425\n",
       "3  Rebellion  0.864620\n",
       "4      Guilt  0.933055\n",
       "5    Despair  0.731168\n",
       "6       Hope  0.683690\n",
       "7       Love  0.626206"
      ]
     },
     "execution_count": 32,
     "metadata": {},
     "output_type": "execute_result"
    }
   ],
   "source": [
    "theme_output = df.drop(['season', 'episode', 'script'], axis=1).sum().reset_index()\n",
    "theme_output.columns = ['theme', 'score']\n",
    "theme_output"
   ]
  },
  {
   "cell_type": "code",
   "execution_count": 33,
   "metadata": {},
   "outputs": [],
   "source": [
    "import matplotlib.pyplot as plt\n",
    "import seaborn as sns"
   ]
  },
  {
   "cell_type": "code",
   "execution_count": 35,
   "metadata": {},
   "outputs": [
    {
     "data": {
      "image/png": "[encoded data removed]",
      "text/plain": [
       "<Figure size 640x480 with 1 Axes>"
      ]
     },
     "metadata": {},
     "output_type": "display_data"
    }
   ],
   "source": [
    "sns.barplot(data=theme_output, x=\"theme\", y=\"score\")\n",
    "plt.xticks(rotation=45)\n",
    "plt.show()"
   ]
  }
 ],
 "metadata": {
  "kernelspec": {
   "display_name": ".venv",
   "language": "python",
   "name": "python3"
  },
  "language_info": {
   "codemirror_mode": {
    "name": "ipython",
    "version": 3
   },
   "file_extension": ".py",
   "mimetype": "text/x-python",
   "name": "python",
   "nbconvert_exporter": "python",
   "pygments_lexer": "ipython3",
   "version": "3.13.2"
  }
 },
 "nbformat": 4,
 "nbformat_minor": 2
}
