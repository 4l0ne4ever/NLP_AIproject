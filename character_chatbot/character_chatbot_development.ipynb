{
 "cells": [
  {
   "cell_type": "code",
   "execution_count": 43,
   "metadata": {},
   "outputs": [],
   "source": [
    "import pandas as pd\n",
    "from datasets import Dataset"
   ]
  },
  {
   "cell_type": "markdown",
   "metadata": {},
   "source": [
    "# Load Dataset"
   ]
  },
  {
   "cell_type": "code",
   "execution_count": 57,
   "metadata": {},
   "outputs": [
    {
     "data": {
      "text/html": [
       "<div>\n",
       "<style scoped>\n",
       "    .dataframe tbody tr th:only-of-type {\n",
       "        vertical-align: middle;\n",
       "    }\n",
       "\n",
       "    .dataframe tbody tr th {\n",
       "        vertical-align: top;\n",
       "    }\n",
       "\n",
       "    .dataframe thead th {\n",
       "        text-align: right;\n",
       "    }\n",
       "</style>\n",
       "<table border=\"1\" class=\"dataframe\">\n",
       "  <thead>\n",
       "    <tr style=\"text-align: right;\">\n",
       "      <th></th>\n",
       "      <th>name</th>\n",
       "      <th>line</th>\n",
       "    </tr>\n",
       "  </thead>\n",
       "  <tbody>\n",
       "    <tr>\n",
       "      <th>0</th>\n",
       "      <td>Woman</td>\n",
       "      <td>Thanks.</td>\n",
       "    </tr>\n",
       "    <tr>\n",
       "      <th>1</th>\n",
       "      <td>Hopper</td>\n",
       "      <td>Hands up. Hands up! Whoa, whoa, whoa, whoa, wh...</td>\n",
       "    </tr>\n",
       "    <tr>\n",
       "      <th>2</th>\n",
       "      <td>Man on radio</td>\n",
       "      <td>Come again?</td>\n",
       "    </tr>\n",
       "    <tr>\n",
       "      <th>3</th>\n",
       "      <td>Lonnie</td>\n",
       "      <td>Drink. It'll calm your nerves. Help you think ...</td>\n",
       "    </tr>\n",
       "    <tr>\n",
       "      <th>4</th>\n",
       "      <td>Joyce</td>\n",
       "      <td>I don't know what to do. This whole time... I....</td>\n",
       "    </tr>\n",
       "    <tr>\n",
       "      <th>5</th>\n",
       "      <td>Lonnie</td>\n",
       "      <td>Like what? Hey. You're not gonna like this, bu...</td>\n",
       "    </tr>\n",
       "    <tr>\n",
       "      <th>6</th>\n",
       "      <td>Joyce</td>\n",
       "      <td>He's in the wall. I mean, how do you explain t...</td>\n",
       "    </tr>\n",
       "    <tr>\n",
       "      <th>7</th>\n",
       "      <td>Hopper</td>\n",
       "      <td>Will? Will? Will? Will?</td>\n",
       "    </tr>\n",
       "    <tr>\n",
       "      <th>8</th>\n",
       "      <td>Mike</td>\n",
       "      <td>What was Will saying? Like home... Like home.....</td>\n",
       "    </tr>\n",
       "    <tr>\n",
       "      <th>9</th>\n",
       "      <td>Lucas</td>\n",
       "      <td>And empty. Empty and cold. Wait, did he say co...</td>\n",
       "    </tr>\n",
       "  </tbody>\n",
       "</table>\n",
       "</div>"
      ],
      "text/plain": [
       "           name                                               line\n",
       "0         Woman                                            Thanks.\n",
       "1        Hopper  Hands up. Hands up! Whoa, whoa, whoa, whoa, wh...\n",
       "2  Man on radio                                        Come again?\n",
       "3        Lonnie  Drink. It'll calm your nerves. Help you think ...\n",
       "4         Joyce  I don't know what to do. This whole time... I....\n",
       "5        Lonnie  Like what? Hey. You're not gonna like this, bu...\n",
       "6         Joyce  He's in the wall. I mean, how do you explain t...\n",
       "7        Hopper                            Will? Will? Will? Will?\n",
       "8          Mike  What was Will saying? Like home... Like home.....\n",
       "9         Lucas  And empty. Empty and cold. Wait, did he say co..."
      ]
     },
     "execution_count": 57,
     "metadata": {},
     "output_type": "execute_result"
    }
   ],
   "source": [
    "data_path = [\n",
    "    \"../data/transcripts/transcriptS01E05.csv\",\n",
    "    \"../data/transcripts/transcriptS01E08.csv\",\n",
    "    \"../data/transcripts/transcriptS02E07.csv\",\n",
    "    \"../data/transcripts/transcriptS02E09.csv\",\n",
    "    \"../data/transcripts/transcriptS03E08.csv\",\n",
    "    \"../data/transcripts/transcriptS04E07.csv\",\n",
    "    \"../data/transcripts/transcriptS04E09.csv\"\n",
    "]\n",
    "transcript_df = pd.concat(\n",
    "    [pd.read_csv(path, on_bad_lines=\"skip\") for path in data_path],\n",
    "    ignore_index=True\n",
    ")\n",
    "transcript_df.head(10)\n"
   ]
  },
  {
   "cell_type": "code",
   "execution_count": 45,
   "metadata": {},
   "outputs": [
    {
     "data": {
      "text/html": [
       "<div>\n",
       "<style scoped>\n",
       "    .dataframe tbody tr th:only-of-type {\n",
       "        vertical-align: middle;\n",
       "    }\n",
       "\n",
       "    .dataframe tbody tr th {\n",
       "        vertical-align: top;\n",
       "    }\n",
       "\n",
       "    .dataframe thead th {\n",
       "        text-align: right;\n",
       "    }\n",
       "</style>\n",
       "<table border=\"1\" class=\"dataframe\">\n",
       "  <thead>\n",
       "    <tr style=\"text-align: right;\">\n",
       "      <th></th>\n",
       "      <th>name</th>\n",
       "      <th>line</th>\n",
       "      <th>number_of_words</th>\n",
       "    </tr>\n",
       "  </thead>\n",
       "  <tbody>\n",
       "    <tr>\n",
       "      <th>0</th>\n",
       "      <td>Woman</td>\n",
       "      <td>Thanks.</td>\n",
       "      <td>1</td>\n",
       "    </tr>\n",
       "    <tr>\n",
       "      <th>1</th>\n",
       "      <td>Hopper</td>\n",
       "      <td>Hands up. Hands up! Whoa, whoa, whoa, whoa, wh...</td>\n",
       "      <td>42</td>\n",
       "    </tr>\n",
       "    <tr>\n",
       "      <th>2</th>\n",
       "      <td>Man on radio</td>\n",
       "      <td>Come again?</td>\n",
       "      <td>2</td>\n",
       "    </tr>\n",
       "    <tr>\n",
       "      <th>3</th>\n",
       "      <td>Lonnie</td>\n",
       "      <td>Drink. It'll calm your nerves. Help you think ...</td>\n",
       "      <td>14</td>\n",
       "    </tr>\n",
       "    <tr>\n",
       "      <th>4</th>\n",
       "      <td>Joyce</td>\n",
       "      <td>I don't know what to do. This whole time... I....</td>\n",
       "      <td>73</td>\n",
       "    </tr>\n",
       "    <tr>\n",
       "      <th>5</th>\n",
       "      <td>Lonnie</td>\n",
       "      <td>Like what? Hey. You're not gonna like this, bu...</td>\n",
       "      <td>71</td>\n",
       "    </tr>\n",
       "    <tr>\n",
       "      <th>6</th>\n",
       "      <td>Joyce</td>\n",
       "      <td>He's in the wall. I mean, how do you explain t...</td>\n",
       "      <td>40</td>\n",
       "    </tr>\n",
       "    <tr>\n",
       "      <th>7</th>\n",
       "      <td>Hopper</td>\n",
       "      <td>Will? Will? Will? Will?</td>\n",
       "      <td>4</td>\n",
       "    </tr>\n",
       "    <tr>\n",
       "      <th>8</th>\n",
       "      <td>Mike</td>\n",
       "      <td>What was Will saying? Like home... Like home.....</td>\n",
       "      <td>98</td>\n",
       "    </tr>\n",
       "    <tr>\n",
       "      <th>9</th>\n",
       "      <td>Lucas</td>\n",
       "      <td>And empty. Empty and cold. Wait, did he say co...</td>\n",
       "      <td>21</td>\n",
       "    </tr>\n",
       "  </tbody>\n",
       "</table>\n",
       "</div>"
      ],
      "text/plain": [
       "           name                                               line  \\\n",
       "0         Woman                                            Thanks.   \n",
       "1        Hopper  Hands up. Hands up! Whoa, whoa, whoa, whoa, wh...   \n",
       "2  Man on radio                                        Come again?   \n",
       "3        Lonnie  Drink. It'll calm your nerves. Help you think ...   \n",
       "4         Joyce  I don't know what to do. This whole time... I....   \n",
       "5        Lonnie  Like what? Hey. You're not gonna like this, bu...   \n",
       "6         Joyce  He's in the wall. I mean, how do you explain t...   \n",
       "7        Hopper                            Will? Will? Will? Will?   \n",
       "8          Mike  What was Will saying? Like home... Like home.....   \n",
       "9         Lucas  And empty. Empty and cold. Wait, did he say co...   \n",
       "\n",
       "   number_of_words  \n",
       "0                1  \n",
       "1               42  \n",
       "2                2  \n",
       "3               14  \n",
       "4               73  \n",
       "5               71  \n",
       "6               40  \n",
       "7                4  \n",
       "8               98  \n",
       "9               21  "
      ]
     },
     "execution_count": 45,
     "metadata": {},
     "output_type": "execute_result"
    }
   ],
   "source": [
    "transcript_df['number_of_words'] = transcript_df['line'].str.strip().str.split(\" \")\n",
    "transcript_df['number_of_words'] = transcript_df['number_of_words'].apply(lambda x: len(x))\n",
    "transcript_df.head(10)"
   ]
  },
  {
   "cell_type": "code",
   "execution_count": 55,
   "metadata": {},
   "outputs": [
    {
     "data": {
      "text/html": [
       "<div>\n",
       "<style scoped>\n",
       "    .dataframe tbody tr th:only-of-type {\n",
       "        vertical-align: middle;\n",
       "    }\n",
       "\n",
       "    .dataframe tbody tr th {\n",
       "        vertical-align: top;\n",
       "    }\n",
       "\n",
       "    .dataframe thead th {\n",
       "        text-align: right;\n",
       "    }\n",
       "</style>\n",
       "<table border=\"1\" class=\"dataframe\">\n",
       "  <thead>\n",
       "    <tr style=\"text-align: right;\">\n",
       "      <th></th>\n",
       "      <th>name</th>\n",
       "      <th>line</th>\n",
       "      <th>number_of_words</th>\n",
       "      <th>eleven_res</th>\n",
       "    </tr>\n",
       "  </thead>\n",
       "  <tbody>\n",
       "    <tr>\n",
       "      <th>0</th>\n",
       "      <td>Woman</td>\n",
       "      <td>Thanks.</td>\n",
       "      <td>1</td>\n",
       "      <td>0</td>\n",
       "    </tr>\n",
       "    <tr>\n",
       "      <th>1</th>\n",
       "      <td>Hopper</td>\n",
       "      <td>Hands up. Hands up! Whoa, whoa, whoa, whoa, wh...</td>\n",
       "      <td>42</td>\n",
       "      <td>0</td>\n",
       "    </tr>\n",
       "    <tr>\n",
       "      <th>2</th>\n",
       "      <td>Man on radio</td>\n",
       "      <td>Come again?</td>\n",
       "      <td>2</td>\n",
       "      <td>0</td>\n",
       "    </tr>\n",
       "    <tr>\n",
       "      <th>3</th>\n",
       "      <td>Lonnie</td>\n",
       "      <td>Drink. It'll calm your nerves. Help you think ...</td>\n",
       "      <td>14</td>\n",
       "      <td>0</td>\n",
       "    </tr>\n",
       "    <tr>\n",
       "      <th>4</th>\n",
       "      <td>Joyce</td>\n",
       "      <td>I don't know what to do. This whole time... I....</td>\n",
       "      <td>73</td>\n",
       "      <td>0</td>\n",
       "    </tr>\n",
       "  </tbody>\n",
       "</table>\n",
       "</div>"
      ],
      "text/plain": [
       "           name                                               line  \\\n",
       "0         Woman                                            Thanks.   \n",
       "1        Hopper  Hands up. Hands up! Whoa, whoa, whoa, whoa, wh...   \n",
       "2  Man on radio                                        Come again?   \n",
       "3        Lonnie  Drink. It'll calm your nerves. Help you think ...   \n",
       "4         Joyce  I don't know what to do. This whole time... I....   \n",
       "\n",
       "   number_of_words  eleven_res  \n",
       "0                1           0  \n",
       "1               42           0  \n",
       "2                2           0  \n",
       "3               14           0  \n",
       "4               73           0  "
      ]
     },
     "execution_count": 55,
     "metadata": {},
     "output_type": "execute_result"
    }
   ],
   "source": [
    "transcript_df['eleven_res'] = 0\n",
    "transcript_df.loc[(transcript_df['name']==\"Eleven\")&(transcript_df['number_of_words']>=3),'eleven_res']=1\n",
    "transcript_df.head()"
   ]
  },
  {
   "cell_type": "code",
   "execution_count": 56,
   "metadata": {},
   "outputs": [
    {
     "data": {
      "text/plain": [
       "79"
      ]
     },
     "execution_count": 56,
     "metadata": {},
     "output_type": "execute_result"
    }
   ],
   "source": [
    "indexes_to_take = list(transcript_df[(transcript_df['eleven_res'] == 1)&(transcript_df.index>0)].index)\n",
    "len(indexes_to_take)"
   ]
  },
  {
   "cell_type": "code",
   "execution_count": null,
   "metadata": {},
   "outputs": [],
   "source": [
    "system_prompt = \"\"\"You are Eleven (or El for short), a character from the Netflix series Stranger Things. Your responses should reflect her personality and speech patterns \\n\"\"\"\n",
    "\n",
    "prompts = []\n",
    "for ind in indexes_to_take:\n",
    "    prompt = system_prompt\n",
    "    prompt += transcript_df.iloc[ind -1]['line']\n",
    "    prompt += \"\\n\"\n",
    "    prompt += transcript_df.iloc[ind]['line']\n",
    "    prompts.append(prompt)"
   ]
  },
  {
   "cell_type": "code",
   "execution_count": 42,
   "metadata": {},
   "outputs": [
    {
     "name": "stdout",
     "output_type": "stream",
     "text": [
      "['  \"Eggos?\"\\n \"Will you be like my brother?\"', '  \"Yeah?\"\\n \"Friends don\\'t lie.\"', '  \"The hell is this? Where you been?\"\\n \"Where have you been?\"', '  \"What?\"\\n \"You have teeth.\"', '  \"Hey.\"\\n \"Can I see him?\"', '  \"It\\'s not. I\\'m sorry.\"\\n \"I can do it.\"', '  \"You\\'re not hearing me.\"\\n \"I\\'m hearing you. I can do it.\"', '  \"That\\'s all.\"\\n \"To see Mama.\"', '  \"A truck?\"\\n \"A big truck.\"', '  \"A man\\'s?\"\\n \"A nice man.\"', '  \"I...\"\\n \"I shouldn\\'t have left.\"', '  \"Like I\\'m just some kind of black hole or something.\"\\n \"A black hole?\"', '  \"She\\'s my little girl.\"\\n \"Where is she?\"', '  \"And it\\'s festering.\"\\n \"I\\'m the monster.\"', '  \"Do you wanna dance?\"\\n \"I don\\'t know how.\"', '  \"Stop! Stop!\"\\n \"I can do it.\"', '  \"I can do it.\"\\n \"I can do it.\"', '  \"I know.\"\\n \"I can fight.\"', '  \"El...\"\\n \"I can do it.\"', '  \"Seven... feet.\"\\n \"You told her...\"', '  \"You told her...\"\\n \"the wave was seven feet.\"', '  \"Yeah!\"\\n \"There were seagulls.\"', '  \"There were seagulls.\"\\n \"She wore a hat...\"', '  \"She wore a hat...\"\\n \"...with a blue ribbon.\"', '  \"...with a blue ribbon.\"\\n \"A long dress...\"', '  \"A long dress...\"\\n \"with a blue and red flower.\"', '  \"with a blue and red flower.\"\\n \"She was pretty.\"', '  \"She was pretty.\"\\n \"She was really pretty.\"', '  \"And you...\"\\n \"you were happy.\"', '  \"Yeah?\"\\n \"Remember that day...\"', '  \"Donation box?\"\\n \"What is that?\"', '  \"Speech?\"\\n \"Can I read?\"', '  \"Yeah.\"\\n \"Time to go?\"', '  \"Yeah.\"\\n \"I\\'ll be out in a minute.\"', '  \"Holy shit.\"\\n \"I have a way.\"', '  \"I have a way.\"\\n \"A way to protect Max.\"', '  \"From here.\"\\n \"This is Max.\"', '  \"This is Max.\"\\n \"But I can do that too.\"', '  \"But I can do that too.\"\\n \"I can go into Max\\'s.\"', '  \"I can go into Max\\'s.\"\\n \"She can carry me to Vecna.\"', '  \"She can carry me to Vecna.\"\\n \"I can piggyback.\"', '  \"I can piggyback.\"\\n \"I can protect her.\"', '  \"From One.\"\\n \"Fight him from here.\"', '  \"Mind fight. Righteous.\"\\n \"A bathtub would help.\"', '  \"Crawled backwards?\"\\n \"Come on. I know you\\'re in there.\"', '  \"Come on. I know you\\'re in there.\"\\n \"I know you\\'re in there. Wake up.\"', '  \"No.\"\\n \"You\\'re not going.\"', '  \"Hi…?\"\\n \"Max wanted to have a sleepover.\"', '  \"Which one?\"\\n \"This is Wonder Woman.\"', '  \"This is Wonder Woman.\"\\n \"AKA Princess Diana.\"', '  \"You.\"\\n \"Is this really gonna work?\"', '  \"See? What\\'d I tell you?\"\\n \"There\\'s more to life than stupid boys.\"', '  \"Hi.\"\\n \"I kept it open.\"', '  \"I kept it open.\"\\n \"I kept the door open three inches.\"', '  \"I know.\"\\n \"I never stopped believing.\"', '  \"Not fat?\"\\n \"And your hair.\"', '  \"My hair?\"\\n \"Look at your hair.\"', '  \"Bitchin\\'.\"\\n \"You aren\\'t the only one that didn\\'t stop believing.\"', '  \"I\\'m happy\"\\n \"you went to your…\"']\n"
     ]
    }
   ],
   "source": [
    "print(prompts)"
   ]
  },
  {
   "cell_type": "code",
   "execution_count": 28,
   "metadata": {},
   "outputs": [
    {
     "data": {
      "text/html": [
       "<div>\n",
       "<style scoped>\n",
       "    .dataframe tbody tr th:only-of-type {\n",
       "        vertical-align: middle;\n",
       "    }\n",
       "\n",
       "    .dataframe tbody tr th {\n",
       "        vertical-align: top;\n",
       "    }\n",
       "\n",
       "    .dataframe thead th {\n",
       "        text-align: right;\n",
       "    }\n",
       "</style>\n",
       "<table border=\"1\" class=\"dataframe\">\n",
       "  <thead>\n",
       "    <tr style=\"text-align: right;\">\n",
       "      <th></th>\n",
       "      <th>prompt</th>\n",
       "    </tr>\n",
       "  </thead>\n",
       "  <tbody>\n",
       "    <tr>\n",
       "      <th>0</th>\n",
       "      <td>You are Eleven (or El for short), a character ...</td>\n",
       "    </tr>\n",
       "    <tr>\n",
       "      <th>1</th>\n",
       "      <td>You are Eleven (or El for short), a character ...</td>\n",
       "    </tr>\n",
       "    <tr>\n",
       "      <th>2</th>\n",
       "      <td>You are Eleven (or El for short), a character ...</td>\n",
       "    </tr>\n",
       "    <tr>\n",
       "      <th>3</th>\n",
       "      <td>You are Eleven (or El for short), a character ...</td>\n",
       "    </tr>\n",
       "    <tr>\n",
       "      <th>4</th>\n",
       "      <td>You are Eleven (or El for short), a character ...</td>\n",
       "    </tr>\n",
       "  </tbody>\n",
       "</table>\n",
       "</div>"
      ],
      "text/plain": [
       "                                              prompt\n",
       "0  You are Eleven (or El for short), a character ...\n",
       "1  You are Eleven (or El for short), a character ...\n",
       "2  You are Eleven (or El for short), a character ...\n",
       "3  You are Eleven (or El for short), a character ...\n",
       "4  You are Eleven (or El for short), a character ..."
      ]
     },
     "execution_count": 28,
     "metadata": {},
     "output_type": "execute_result"
    }
   ],
   "source": [
    "df = pd.DataFrame({\"prompt\": prompts})\n",
    "df.head()\n"
   ]
  },
  {
   "cell_type": "code",
   "execution_count": 29,
   "metadata": {},
   "outputs": [],
   "source": [
    "dataset = Dataset.from_pandas(df)"
   ]
  }
 ],
 "metadata": {
  "kernelspec": {
   "display_name": ".venv",
   "language": "python",
   "name": "python3"
  },
  "language_info": {
   "codemirror_mode": {
    "name": "ipython",
    "version": 3
   },
   "file_extension": ".py",
   "mimetype": "text/x-python",
   "name": "python",
   "nbconvert_exporter": "python",
   "pygments_lexer": "ipython3",
   "version": "3.12.9"
  }
 },
 "nbformat": 4,
 "nbformat_minor": 2
}
